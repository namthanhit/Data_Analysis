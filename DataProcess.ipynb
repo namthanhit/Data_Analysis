{
 "cells": [
  {
   "cell_type": "code",
   "execution_count": 1,
   "id": "38d63ca3",
   "metadata": {},
   "outputs": [],
   "source": [
    "import os\n",
    "import pandas as pd"
   ]
  },
  {
   "cell_type": "code",
   "execution_count": null,
   "id": "22e98126",
   "metadata": {},
   "outputs": [],
   "source": [
    "# Đọc file CSV\n",
    "df = pd.read_csv(\"Data\\\\batdongsan_full_data_hanoi_2.csv\")\n",
    "\n",
    "# Chỉnh dòng 1 đến dòng 30 (index 0 đến 29)\n",
    "df_fix = df.copy()\n",
    "# df_fix.loc[0:29, \"Địa chỉ\"] = df_fix.loc[0:29].apply(\n",
    "#     lambda row: row[\"Đại chỉ\"] if pd.isna(row[\"Địa chỉ\"]) and pd.notna(row[\"Đại chỉ\"]) else row[\"Địa chỉ\"],\n",
    "#     axis=1\n",
    "# )\n",
    "\n",
    "# Xoá cột 'Đại chỉ' nếu không dùng nữa\n",
    "df_fix.drop(columns=[\"Thời gian dự kiến vào ở\"], inplace=True)\n",
    "df_fix.drop(columns=[\"Mức giá điện\"], inplace=True)\n",
    "df_fix.drop(columns=[\"Mức giá nước\"], inplace=True)\n",
    "df_fix.drop(columns=[\"Tiện ích\"], inplace=True)\n",
    "\n",
    "# Ghi đè lại file\n",
    "df_fix.to_csv(\"Data/batdongsan_full_data_hanoi_2.csv\", index=False, encoding=\"utf-8-sig\")\n",
    "\n",
    "print(\"Đã chỉnh xong dữ liệu từ dòng 2 đến 30 trong file.\")\n"
   ]
  }
 ],
 "metadata": {
  "kernelspec": {
   "display_name": "Python 3",
   "language": "python",
   "name": "python3"
  },
  "language_info": {
   "codemirror_mode": {
    "name": "ipython",
    "version": 3
   },
   "file_extension": ".py",
   "mimetype": "text/x-python",
   "name": "python",
   "nbconvert_exporter": "python",
   "pygments_lexer": "ipython3",
   "version": "3.12.6"
  }
 },
 "nbformat": 4,
 "nbformat_minor": 5
}
